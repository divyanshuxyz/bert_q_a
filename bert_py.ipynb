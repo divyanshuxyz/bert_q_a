{
  "nbformat": 4,
  "nbformat_minor": 0,
  "metadata": {
    "colab": {
      "provenance": []
    },
    "kernelspec": {
      "name": "python3",
      "display_name": "Python 3"
    },
    "language_info": {
      "name": "python"
    }
  },
  "cells": [
    {
      "cell_type": "code",
      "execution_count": null,
      "metadata": {
        "colab": {
          "base_uri": "https://localhost:8080/"
        },
        "id": "JJh55pJTrXb2",
        "outputId": "014e167d-f431-41e8-d8a5-03dcd6fe5a76"
      },
      "outputs": [
        {
          "output_type": "stream",
          "name": "stderr",
          "text": [
            "Some weights of the model checkpoint at bert-large-uncased-whole-word-masking-finetuned-squad were not used when initializing BertForQuestionAnswering: ['bert.pooler.dense.weight', 'bert.pooler.dense.bias']\n",
            "- This IS expected if you are initializing BertForQuestionAnswering from the checkpoint of a model trained on another task or with another architecture (e.g. initializing a BertForSequenceClassification model from a BertForPreTraining model).\n",
            "- This IS NOT expected if you are initializing BertForQuestionAnswering from the checkpoint of a model that you expect to be exactly identical (initializing a BertForSequenceClassification model from a BertForSequenceClassification model).\n"
          ]
        },
        {
          "output_type": "stream",
          "name": "stdout",
          "text": [
            "Question: Prime Minister of India?\n",
            "Answer: Shri Narendra Modi\n"
          ]
        }
      ],
      "source": [
        "import re\n",
        "import PyPDF2\n",
        "from transformers import pipeline\n",
        "qa_pipeline = pipeline(\"question-answering\", model=\"bert-large-uncased-whole-word-masking-finetuned-squad\")\n",
        "\n",
        "# Function to extract text from uploaded PDF\n",
        "def remove_extra_spaces(text):\n",
        "    cleaned_text = re.sub(r'\\s+', ' ', text)\n",
        "    return cleaned_text.strip()\n",
        "def read_pdf(uploaded_pdf):\n",
        "    text = \"\"\n",
        "\n",
        "    with open(uploaded_pdf, \"rb\") as pdf_file:\n",
        "        pdf_reader = PyPDF2.PdfReader(pdf_file)\n",
        "\n",
        "        for page_number in range(len(pdf_reader.pages)):\n",
        "            page = pdf_reader.pages[page_number]\n",
        "            text += page.extract_text()\n",
        "            text=remove_extra_spaces(text)\n",
        "    return text\n",
        "# Main app logic\n",
        "uploaded_pdf =\"/content/minister.pdf\"\n",
        "pdf_text=read_pdf(uploaded_pdf)\n",
        "question = \"Prime Minister of India?\"\n",
        "\n",
        "answer = qa_pipeline(question=question, context=pdf_text)\n",
        "print(\"Question:\",question)\n",
        "print(\"Answer:\", answer['answer'])\n",
        "\n"
      ]
    },
    {
      "cell_type": "code",
      "source": [],
      "metadata": {
        "id": "IqKS6xz29jAV"
      },
      "execution_count": null,
      "outputs": []
    }
  ]
}